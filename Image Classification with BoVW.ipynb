{
 "cells": [
  {
   "cell_type": "markdown",
   "id": "26ba5140",
   "metadata": {},
   "source": [
    "# Image Classification with BoVW"
   ]
  },
  {
   "cell_type": "markdown",
   "id": "61867c8a",
   "metadata": {},
   "source": [
    "## Objective\n",
    "\n",
    "The fundamental purpose of this phase of the project lies in the implementation of an image classification program based on the technique known as Bag of Visual Words (BoVW). This technique is widely used in computer vision and image processing for object recognition and visual content classification tasks. The process is broken down into several essential stages:\n",
    "\n",
    "### Project Steps\n",
    "\n",
    "#### 1. Division of the Data Set\n",
    "\n",
    "First, the data set will be divided into two fundamental subsets: one for training and the other for validation. This division is essential to ensure that the classification model is properly and objectively evaluated on data it has not previously seen.\n",
    "\n",
    "#### 2. Creation of a \"Visual Dictionary\"\n",
    "\n",
    "This phase involves a series of critical steps. It starts with the extraction of relevant features from the images in the training set. The extracted features are then grouped into sets to form what is known as “visual words” or “visual dictionary.” The centers of these groups will be determined, which is equivalent to defining the visual words that will represent the characteristics of the data set. Once the visual dictionary has been established, we proceed to encode the images in the training data set using these visual words. This involves mapping each feature of an image to the closest visual word in the dictionary. The resulting encoding represents an image based on the frequency of the visual words in it.\n",
    "\n",
    "#### 3. Classifier Training\n",
    "\n",
    "The encoded features and training data set will be used to train a classifier. Common classifiers for image classification tasks include Support Vector Machines (SVM) or convolutional neural networks (CNN). The goal is for the classifier to learn to distinguish classes or categories of images using the information provided by the BoVW encoding.\n",
    "\n",
    "#### 4. Classifier validation\n",
    "\n",
    "Finally, the trained classification model is used to classify new images into specific categories. This involves extracting features from the new images, encoding them using the previously constructed visual dictionary, and using the classifier to assign them to a specific category.\n",
    "\n",
    "This BoVW-based approach represents a robust methodology for image classification, with applications ranging from object recognition to visual content identification in fields such as medicine and security. The success of this phase of the project lies in the precision of the classifier and the robustness of the visual dictionary built."
   ]
  },
  {
   "cell_type": "markdown",
   "id": "67beb39c",
   "metadata": {},
   "source": [
    "## Code solution:"
   ]
  },
  {
   "cell_type": "markdown",
   "id": "30476ce7",
   "metadata": {},
   "source": [
    "### Library Import:"
   ]
  },
  {
   "cell_type": "code",
   "execution_count": 3,
   "id": "459f026a-fef9-4689-b7dd-7782f50a8cb0",
   "metadata": {},
   "outputs": [],
   "source": [
    "import cv2\n",
    "import os\n",
    "import random\n",
    "import numpy as np\n",
    "import shutil\n",
    "import matplotlib.pyplot as plt\n",
    "from brisque import BRISQUE\n",
    "from tqdm import tqdm\n",
    "from sklearn.model_selection import train_test_split\n",
    "from sklearn.metrics import accuracy_score, confusion_matrix\n",
    "from sklearn.svm import SVC"
   ]
  },
  {
   "cell_type": "markdown",
   "id": "9cd9a5b3",
   "metadata": {},
   "source": [
    "### Definition of directories:"
   ]
  },
  {
   "cell_type": "code",
   "execution_count": 4,
   "id": "b40d3949",
   "metadata": {},
   "outputs": [],
   "source": [
    "carpeta_origen = r'C:\\\\Users\\\\zunqu\\\\Desktop\\\\cosas de la escuela\\\\septimo semestre\\\\vision\\\\TodosGatosPerrosRenombrados\\\\TodosGatosPerros' \n",
    "input_directory = r'C:\\\\Users\\\\zunqu\\\\Desktop\\\\cosas de la escuela\\\\septimo semestre\\\\vision\\\\pgi2'\n",
    "output_directory = r'C:\\\\Users\\\\zunqu\\\\Desktop\\\\cosas de la escuela\\\\septimo semestre\\\\vision\\\\pgo2'\n",
    "train_directory = r'C:\\\\Users\\\\zunqu\\\\Desktop\\\\cosas de la escuela\\\\septimo semestre\\\\vision\\\\GatosyPerrosSalidaT&V'\n",
    "train_dir = r\"C:\\\\Users\\\\zunqu\\\\Desktop\\\\cosas de la escuela\\\\septimo semestre\\\\vision\\\\GatosyPerrosSalidaT&V\\\\train\"\n",
    "val_dir = r\"C:\\\\Users\\\\zunqu\\\\Desktop\\\\cosas de la escuela\\\\septimo semestre\\\\vision\\\\GatosyPerrosSalidaT&V\\\\val\""
   ]
  },
  {
   "cell_type": "markdown",
   "id": "d0139c74",
   "metadata": {},
   "source": [
    "### Enhancement (preprocessing)"
   ]
  },
  {
   "cell_type": "code",
   "execution_count": 5,
   "id": "c4eb894f-03a7-4fb6-b510-0491db49a77f",
   "metadata": {},
   "outputs": [
    {
     "name": "stdout",
     "output_type": "stream",
     "text": [
      "images have been copied and renamed to the destination folder.\n"
     ]
    },
    {
     "name": "stderr",
     "output_type": "stream",
     "text": [
      "Processing images: 100%|██████████| 191/191 [04:44<00:00,  1.49s/it]"
     ]
    },
    {
     "name": "stdout",
     "output_type": "stream",
     "text": [
      "Average BRISQUE score for all resized and processed images: 19.92123128616903\n"
     ]
    },
    {
     "name": "stderr",
     "output_type": "stream",
     "text": [
      "\n"
     ]
    }
   ],
   "source": [
    "if not os.path.exists(input_directory):\n",
    "    os.makedirs(input_directory)\n",
    "\n",
    "archivos_en_carpeta = os.listdir(carpeta_origen)\n",
    "imagenes = [archivo for archivo in archivos_en_carpeta if archivo.endswith(('.jpg', '.jpeg', '.png'))]\n",
    "\n",
    "if len(imagenes) < 100:\n",
    "    print(\"There are not enough images in the source folder.\")\n",
    "else:\n",
    "    imagenes_seleccionadas = random.sample(imagenes, 100)\n",
    "\n",
    "    for i, imagen in enumerate(imagenes_seleccionadas):\n",
    "        origen = os.path.join(carpeta_origen, imagen)\n",
    "        destino = os.path.join(input_directory, f'{imagen}') \n",
    "        shutil.copy(origen, destino)\n",
    "\n",
    "    print(\"images have been copied and renamed to the destination folder.\")\n",
    "\n",
    "if not os.path.exists(output_directory):\n",
    "    os.makedirs(output_directory)\n",
    "\n",
    "image_files = os.listdir(input_directory)\n",
    "\n",
    "max_size = 1000\n",
    "\n",
    "def aumentar_saturacion(imagen, factor_saturacion):\n",
    "    imagen_hsv = cv2.cvtColor(imagen, cv2.COLOR_BGR2HSV)\n",
    "    imagen_hsv[:,:,1] = np.clip(imagen_hsv[:,:,1] * factor_saturacion, 0, 255).astype(np.uint8)\n",
    "    imagen_vibrante = cv2.cvtColor(imagen_hsv, cv2.COLOR_HSV2BGR)\n",
    "\n",
    "    return imagen_vibrante\n",
    "\n",
    "\n",
    "def unsharp_mask(image, kernel_size=(9, 9), sigma=1, amount=1, threshold=95):\n",
    "    blurred = cv2.GaussianBlur(image, kernel_size, sigma)\n",
    "    sharpened = cv2.addWeighted(image, 1 + amount, blurred, -amount, 0)\n",
    "    sharpened = np.where(sharpened > threshold, sharpened, image)\n",
    "    return sharpened\n",
    "\n",
    "def enhance_and_resize_image(image):\n",
    "    if image is not None:\n",
    "\n",
    "        yuv_image = cv2.cvtColor(image, cv2.COLOR_BGR2YUV)\n",
    "\n",
    "        clahe = cv2.createCLAHE(clipLimit=1.0, tileGridSize=(4, 4))\n",
    "\n",
    "        yuv_image[:,:,0] = clahe.apply(yuv_image[:,:,0])\n",
    "        enhanced_image = cv2.cvtColor(yuv_image, cv2.COLOR_YUV2BGR) \n",
    "        \n",
    "\n",
    "        height, width = enhanced_image.shape[:2]\n",
    "        if height > width:\n",
    "            new_height = max_size\n",
    "            new_width = int(width * (max_size / height))\n",
    "        else:\n",
    "            new_width = max_size\n",
    "            new_height = int(height * (max_size / width))\n",
    "\n",
    "        resized_image = cv2.resize(enhanced_image, (new_width, new_height), interpolation=cv2.INTER_NEAREST_EXACT) \n",
    "        resized_image = cv2.bilateralFilter(resized_image, d=30, sigmaColor=10, sigmaSpace=15)\n",
    "        resized_image = unsharp_mask(resized_image)\n",
    "        resized_image = aumentar_saturacion(resized_image, factor_saturacion= 1.95)\n",
    "        \n",
    "\n",
    "        return resized_image\n",
    "    else:\n",
    "        return None\n",
    "   \n",
    "brisque_scores = []\n",
    "image_count = 0\n",
    "\n",
    "for image_file in tqdm(image_files, desc=\"Processing images\"):\n",
    "    image_path = os.path.join(input_directory, image_file)\n",
    "    image = cv2.imread(image_path)\n",
    "\n",
    "    enhanced_image = enhance_and_resize_image(image)\n",
    "\n",
    "    if enhanced_image is not None:\n",
    "        output_path = os.path.join(output_directory, image_file)\n",
    "        cv2.imwrite(output_path, enhanced_image)\n",
    "\n",
    "        obj = BRISQUE()\n",
    "        score = obj.score(enhanced_image)\n",
    "        #print(f\"Puntaje BRISQUE para {image_file}: {score}\")\n",
    "        brisque_scores.append(score)\n",
    "        image_count += 1\n",
    "\n",
    "if brisque_scores:\n",
    "    mean_brisque_score = sum(brisque_scores) / len(brisque_scores)\n",
    "    print(f\"Average BRISQUE score for all resized and processed images: {mean_brisque_score}\")"
   ]
  },
  {
   "cell_type": "markdown",
   "id": "ce14f418-ccc5-4c98-ad24-5ac070174939",
   "metadata": {},
   "source": [
    "### Division of the Data Set\n"
   ]
  },
  {
   "cell_type": "code",
   "execution_count": 6,
   "id": "7dcd7380-3f9a-406d-97c3-a74497ad25af",
   "metadata": {},
   "outputs": [
    {
     "name": "stdout",
     "output_type": "stream",
     "text": [
      "Total images: 194\n",
      "Training images: 116\n",
      "Validation images: 78\n"
     ]
    }
   ],
   "source": [
    "os.makedirs(train_directory, exist_ok=True)\n",
    "image_files = os.listdir(output_directory)\n",
    "random.shuffle(image_files)\n",
    "\n",
    "# Define the ratio for splitting the dataset\n",
    "train_ratio = 0.6\n",
    "val_ratio = 0.4\n",
    "\n",
    "# Split the image files into training and validation sets\n",
    "train_files, val_files = train_test_split(image_files, test_size=val_ratio, random_state=42)\n",
    "\n",
    "\n",
    "train_dir = os.path.join(train_directory, 'train')\n",
    "val_dir = os.path.join(train_directory, 'val')\n",
    "os.makedirs(train_dir, exist_ok=True)\n",
    "os.makedirs(val_dir, exist_ok=True)\n",
    "\n",
    "for file in train_files:\n",
    "    src_path = os.path.join(output_directory, file)\n",
    "    dst_path = os.path.join(train_dir, file)\n",
    "    shutil.copy2(src_path, dst_path)  \n",
    "    \n",
    "for file in val_files:\n",
    "    src_path = os.path.join(output_directory, file)\n",
    "    dst_path = os.path.join(val_dir, file)\n",
    "    shutil.copy2(src_path, dst_path)  \n",
    "\n",
    "print(f\"Total images: {len(image_files)}\")\n",
    "print(f\"Training images: {len(train_files)}\")\n",
    "print(f\"Validation images: {len(val_files)}\")"
   ]
  },
  {
   "cell_type": "markdown",
   "id": "41e42159-f24b-44b6-a1ba-d8a8a360aae7",
   "metadata": {},
   "source": [
    "### Visual Vocabulary"
   ]
  },
  {
   "cell_type": "code",
   "execution_count": 7,
   "id": "31513617-1a9b-4333-a605-e6acee6a0adf",
   "metadata": {},
   "outputs": [
    {
     "data": {
      "image/png": "[encoded data removed]",
      "text/plain": [
       "<Figure size 640x480 with 1 Axes>"
      ]
     },
     "metadata": {},
     "output_type": "display_data"
    },
    {
     "name": "stdout",
     "output_type": "stream",
     "text": [
      "Done\n"
     ]
    }
   ],
   "source": [
    "\n",
    "# Parameters for SIFT and BoVW\n",
    "sift = cv2.SIFT_create()\n",
    "K = 100  \n",
    "\n",
    "# Load the training images and extract SIFT descriptors\n",
    "all_descriptors = []\n",
    "for filename in os.listdir(train_dir):\n",
    "    if filename.endswith('.jpg'):\n",
    "        img_path = os.path.join(train_dir, filename)\n",
    "        img = cv2.imread(img_path, cv2.IMREAD_GRAYSCALE) \n",
    "        kp, des = sift.detectAndCompute(img, None)\n",
    "        if des is not None:\n",
    "            all_descriptors.extend(des)\n",
    "\n",
    "# Check if descriptors contain NaN or infinite values \n",
    "if np.any(np.isnan(all_descriptors)) or np.any(np.isinf(all_descriptors)):\n",
    "    raise ValueError(\"Descriptors contain NaN or infinite values.\")\n",
    "\n",
    "# Check if K is greater than 0\n",
    "if K <= 0:\n",
    "    raise ValueError(\"The number of clusters K must be greater than 0.\")\n",
    "\n",
    "# Perform k-means clustering to create the visual vocabulary\n",
    "criteria = (cv2.TERM_CRITERIA_EPS + cv2.TERM_CRITERIA_MAX_ITER, 100, 0.2)\n",
    "_, labels, centers = cv2.kmeans(np.float32(all_descriptors), K, None, criteria, 10, cv2.KMEANS_RANDOM_CENTERS)\n",
    "vocabulary = centers\n",
    "\n",
    "# Plot a histogram of visual word occurrences\n",
    "histogram = np.bincount(labels.flatten(), minlength=K)\n",
    "plt.bar(range(K), histogram)\n",
    "plt.xlabel(\"Visual Word Index\")\n",
    "plt.ylabel(\"Frequency of Occurrence\")\n",
    "plt.title(\"Visual Word Occurrences\")\n",
    "plt.show()\n",
    "\n",
    "# Save the vocabulary for later use if needed\n",
    "np.save('visual_vocabulary.npy', vocabulary)\n",
    "\n",
    "print(\"Done\")"
   ]
  },
  {
   "cell_type": "markdown",
   "id": "ae1bb222-6cfd-4511-9245-960063ef22d6",
   "metadata": {},
   "source": [
    "### Classifier training"
   ]
  },
  {
   "cell_type": "code",
   "execution_count": 8,
   "id": "65e30864-4c2e-43ce-a867-3656863536d2",
   "metadata": {},
   "outputs": [
    {
     "name": "stdout",
     "output_type": "stream",
     "text": [
      "Training Accuracy: 100.00%\n",
      "Confusion Matrix (Training Set):\n",
      "[[55  0]\n",
      " [ 0 61]]\n"
     ]
    }
   ],
   "source": [
    "# Load the visual vocabulary \n",
    "vocabulary = np.load('visual_vocabulary.npy')\n",
    "\n",
    "# Function to compute visual word histograms for a set of images\n",
    "def compute_histograms(images, vocabulary, sift):\n",
    "    histograms = []\n",
    "    K = len(vocabulary)\n",
    "\n",
    "    for image_path in images:\n",
    "        img = cv2.imread(image_path, cv2.IMREAD_GRAYSCALE)\n",
    "        kp, des = sift.detectAndCompute(img, None)\n",
    "\n",
    "        if des is not None:\n",
    "            # Initialize a histogram with zeros\n",
    "            histogram = np.zeros(K, dtype=int)\n",
    "\n",
    "            # Assign each descriptor to the nearest visual word in the vocabulary\n",
    "            for descriptor in des:\n",
    "                distances = np.linalg.norm(descriptor - vocabulary, axis=1)\n",
    "                nearest_visual_word_index = np.argmin(distances)\n",
    "                histogram[nearest_visual_word_index] += 1\n",
    "\n",
    "            histograms.append(histogram)\n",
    "\n",
    "    return np.array(histograms)\n",
    "\n",
    "# Load the training and validation images\n",
    "train_images = [os.path.join(train_dir, filename) for filename in os.listdir(train_dir) if filename.endswith('.jpg')]\n",
    "val_images = [os.path.join(val_dir, filename) for filename in os.listdir(val_dir) if filename.endswith('.jpg')]\n",
    "\n",
    "# Create histograms for training images\n",
    "train_histograms = compute_histograms(train_images, vocabulary, sift)\n",
    "\n",
    "# Labels for training data (e.g., 1 for cats, 0 for dogs)\n",
    "train_labels = np.array([1 if \"Gato\" in filename else 0 for filename in os.listdir(train_dir) if filename.endswith('.jpg')])\n",
    "\n",
    "# Create an SVM classifier and train it\n",
    "svm_classifier = SVC(kernel='linear')\n",
    "svm_classifier.fit(train_histograms, train_labels)\n",
    "\n",
    "# Predict on the training set\n",
    "train_predictions = svm_classifier.predict(train_histograms)\n",
    "\n",
    "# Calculate accuracy for the training set\n",
    "training_accuracy = accuracy_score(train_labels, train_predictions)\n",
    "print(f\"Training Accuracy: {training_accuracy * 100:.2f}%\")\n",
    "\n",
    "# Create a confusion matrix for the training set\n",
    "confusion_mat = confusion_matrix(train_labels, train_predictions)\n",
    "print(\"Confusion Matrix (Training Set):\")\n",
    "print(confusion_mat)"
   ]
  },
  {
   "cell_type": "markdown",
   "id": "78c4866c-5f9f-4c42-a0eb-88d03eb4b43a",
   "metadata": {},
   "source": [
    "### Classifier valdiation "
   ]
  },
  {
   "cell_type": "code",
   "execution_count": 11,
   "id": "3b4bda4e-3b6f-4cda-b7d7-0ea5417e0a44",
   "metadata": {},
   "outputs": [
    {
     "name": "stdout",
     "output_type": "stream",
     "text": [
      "Validation Accuracy \n",
      " without filter 66.67%\n",
      "Confusion Matrix: \n",
      "[[27 14]\n",
      " [12 25]]\n"
     ]
    }
   ],
   "source": [
    "# Train an SVM classifier\n",
    "train_labels = np.array([1 if \"Gato\" in filename else 0 for filename in os.listdir(train_dir) if filename.endswith('.jpg')])\n",
    "svm_classifier = SVC(kernel='linear')\n",
    "svm_classifier.fit(train_histograms, train_labels)\n",
    "\n",
    "# Predict on the validation set\n",
    "val_histograms = compute_histograms(val_images, vocabulary, sift)\n",
    "val_labels = np.array([1 if \"Gato\" in filename else 0 for filename in os.listdir(val_dir) if filename.endswith('.jpg')])\n",
    "val_predictions = svm_classifier.predict(val_histograms)\n",
    "\n",
    "# Calculate accuracy\n",
    "accuracy = accuracy_score(val_labels, val_predictions)\n",
    "print(f\"Validation Accuracy \\n without filter {accuracy * 100:.2f}%\")\n",
    "\n",
    "# Create a confusion matrix for the validation set\n",
    "confusion_mat = confusion_matrix(val_labels, val_predictions)\n",
    "print(\"Confusion Matrix: \")\n",
    "print(confusion_mat)"
   ]
  },
  {
   "cell_type": "markdown",
   "id": "d477d212-79eb-485a-b913-3b529a734070",
   "metadata": {},
   "source": [
    "## Problem identification:\n",
    "In this phase of the project we were able to identify the main characteristics to attack regarding this problem, which are:\n",
    "\n",
    "- Classification of images into two categories: cats and dogs.\n",
    "- Use of a Bag of Visual Words (BoVW) approach to represent images.\n",
    "- Creation of a visual vocabulary to represent image features for classification.\n",
    "- Training a Support Vector Machine (SVM) classifier for image classification.\n",
    "- Evaluation of classifier performance using accuracy and a confusion matrix."
   ]
  },
  {
   "cell_type": "markdown",
   "id": "9ad11ce6-0022-48a2-8961-efb81c2e6f42",
   "metadata": {},
   "source": [
    "\n",
    "## Solution Formulation\n",
    "\n",
    "\n",
    "#### **SIFT Feature Extraction (Step 2: Creation of a \"Visual Dictionary\"):**\n",
    "\n",
    "- In \"Step 2: Creation of a 'Visual Dictionary,'\" we utilized the Scale-Invariant Feature Transform (SIFT) for feature extraction. SIFT was chosen due to its robustness to variations in scale, rotation, and illumination, making it suitable for image recognition.\n",
    "- SIFT provides distinctive keypoint descriptors, a critical aspect for creating a \"Visual Dictionary\" in this context. These descriptors are essential for identifying local features in images, facilitating the creation of visual words.\n",
    "- While \"FAST\" and \"ORB\" are efficient alternatives, our choice of SIFT aligns with the requirements of creating a comprehensive and accurate visual vocabulary.\n",
    "\n",
    "#### **K-Means Clustering for Visual Vocabulary (Step 2: Creation of a \"Visual Dictionary\"):**\n",
    "\n",
    "- For \"Step 2: Creation of a 'Visual Dictionary,'\" we employed K-Means clustering to group descriptors into visual words. K-Means was chosen for its simplicity and effectiveness in handling large datasets, contributing to the creation of the visual vocabulary.\n",
    "- The algorithm's suitability for unsupervised learning tasks aligns with the nature of \"Step 2,\" where we create the \"Visual Dictionary\" without requiring explicit labels.\n",
    "- K-Means clustering is widely used in BoVW models for image classification and information retrieval tasks, making it an ideal choice for building the foundation of our visual vocabulary.\n",
    "\n",
    "#### **Visual Vocabulary Size (K) (Step 2: Creation of a \"Visual Dictionary\"):**\n",
    "\n",
    "- In \"Step 2: Creation of a 'Visual Dictionary,'\" the choice of the visual vocabulary size (K) was a crucial decision. We based this choice on experimentation and performance evaluation on the specific dataset, aligning with the objective of creating an effective \"Visual Dictionary.\"\n",
    "- We sought a balance between a smaller K, which reduces computational complexity, and a larger K, which captures more fine-grained image details. This choice directly impacts the quality of the \"Visual Dictionary\" and, consequently, the accuracy of classification in later steps.\n",
    "- K=100 was selected as a reasonable compromise between computational efficiency and classification accuracy, ensuring that the \"Visual Dictionary\" captures the necessary level of detail while remaining manageable in terms of computational resources.\n",
    "\n",
    "#### **SVM Classifier Selection (Step 3: Classifier Training):**\n",
    "\n",
    "- To complete the \"Classifier Training\" step, we chose the Support Vector Machine (SVM) for its effectiveness in handling high-dimensional data, which is the case with image feature histograms.\n",
    "- The selection of a linear kernel for the SVM aligns with our choice in \"Step 1: Division of the Data Set.\" A linear kernel was preferred for its simplicity and efficiency in handling the BoVW representations.\n",
    "- SVMs are known for their good generalization and robustness in image classification tasks, which is essential for accurate classification in \"Step 4: Classifier Validation.\"\n",
    "\n",
    "#### **Use of Linear Kernel SVM (Step 3: Classifier Training):**\n",
    "\n",
    "- In \"Step 3: Classifier Training,\" the choice of the linear kernel for the SVM aligns with our decision in \"Step 1: Division of the Data Set\" to use a linear kernel for simplicity and efficiency.\n",
    "- The linear kernel simplifies the classification problem and improves computational efficiency, which is crucial in training the classifier effectively.\n",
    "- Linear SVMs are often preferred in the context of BoVW representations as they perform well and are less prone to overfitting, which is a concern addressed in \"Step 4: Classifier Validation.\"\n",
    "- Non-linear kernels (e.g., RBF) were not initially preferred due to their higher complexity and potential overfitting, reinforcing our choice of a linear kernel in \"Step 3.\"\n",
    "\n",
    "#### **Evaluation Metrics (Accuracy and Confusion Matrix) (Step 4: Classifier Validation):**\n",
    "\n",
    "- In \"Step 4: Classifier Validation,\" we evaluate the performance of the classifier using accuracy as the primary evaluation metric, as established in the \"Evaluation Metrics\" section.\n",
    "- Additionally, we employ a confusion matrix to gain deeper insights into the classifier's performance, as mentioned in the \"Evaluation Metrics\" section. The confusion matrix aids in distinguishing between true positive, true negative, false positive, and false negative predictions.\n",
    "- These evaluation metrics collectively provide a comprehensive assessment of the classifier's performance on the validation dataset, fulfilling the objectives of \"Step 4: Classifier Validation.\""
   ]
  },
  {
   "cell_type": "markdown",
   "id": "6b361abe",
   "metadata": {},
   "source": [
    "## Solutions Evaluation:\n",
    "\n",
    "#### **Validation of accuracy and generalization:**\n",
    "\n",
    "The primary metric for evaluating classifier performance on unseen data is validation accuracy. This metric reveals how well the model generalizes to images that have not been seen during training. The choice of using Support Vector Machine (SVM) with a linear kernel and Scale Invariant Feature Transform (SIFT) for feature extraction is based on the need to achieve high generalization on a specific task, such as dog classification and cats is due to several reasons:\n",
    "\n",
    "- SIFT:\n",
    "- IT is known for its ability to capture distinctive features, even in images of different breeds of dogs and cats, regardless of variations in subject size, orientation and lighting.\n",
    "    - It is scale and rotation invariant, making it especially suitable for classifying images of animals in different poses and sizes.\n",
    "    - The robustness and invariance of SIFT allow the SVM classifier to learn patterns representative of the categories \"dog\" and \"cat\" that are applicable to a variety of images of these two classes.\n",
    "    - By avoiding using methods like FAST (which focuses on corner detection) or SURF (which has proprietary parts), we minimize the risk of losing important features in dog and cat images. Furthermore, it has been observed that ORB does not optimally perform feature extraction in this particular context, reinforcing the choice of SIFT as a strong option.\n",
    "- SVM:\n",
    "    - Is a supervised learning algorithm that is commonly used for classification problems. Its goal is to find a hyperplane that optimally separates samples of different classes in the feature space. The linear kernel is a kernel option in SVM that uses a linear hyperplane to perform separation.\n",
    "    - In the context of cat and dog image classification, SVM with linear kernel works by finding a hyperplane (a line in the case of two-dimensional data) that best separates the features extracted from dog images from cat images. The \"best separation\" is defined as that which maximizes the margin between the two classes, that is, the distance between the hyperplane and the closest training samples of each class.\n",
    "    - The linear kernel is a simple and efficient option for binary classification such as cats and dogs. This reduces the computational complexity compared to more complex nonlinear kernels such as the RBF (Radial Basis Function) kernel.\n",
    "    - SVMs with linear kernels tend to be less prone to overfitting compared to nonlinear kernels, especially if we have a relatively small data set. This is important to prevent the model from overfitting the training data and having difficulty generalizing to new images of dogs and cats.\n",
    "    - In the case of features extracted from images, the feature space can have high dimensionality. SVM with linear kernel is effective in high-dimensional spaces, which is crucial when working with histograms of image features.\n",
    "    - SVMs with nonlinear kernels like the RBF kernel can capture more complex relationships in the data, but tend to be more prone to overfitting, especially with small data sets. This could lead to poor performance in classifying new images.\n",
    "\n",
    "The choice of SVM with linear kernel in our case was based on its simplicity, efficiency, and ability to generalize well on a dog and cat image classification dataset, especially when compared to alternatives that might have been more prone to overfitting. or less efficient in high-dimensional feature spaces. This demonstrates careful consideration of the characteristics of the problem and the capabilities of the classification methods.\n",
    "\n",
    "#### **Analysis of the Confusion Matrix:** \n",
    "\n",
    "The confusion matrix is a valuable tool for evaluating classifier performance in classification tasks. This matrix breaks down the model predictions into four categories:\n",
    "\n",
    "- True Positives (TP): Represents instances where the model correctly predicted that an image is from a specific category (e.g., \"dog\") and the image actually belonged to that category.\n",
    "- True Negatives (TN): Represents instances where the model correctly predicted that an image does not belong to a specific category and the image did not actually belong to that category.\n",
    "- False Positives (FP): Represents instances where the model incorrectly predicted that an image belongs to a specific category when in fact it does not. That is, it predicted a \"wrong category.\"\n",
    "- False Negatives (FN): Represents instances where the model incorrectly predicted that an image does not belong to a specific category when in fact it does.\n",
    "\n",
    "Strategic Use of SIFT in Analysis: The choice to use SIFT in the classification process plays a fundamental role in the analysis of the confusion matrix. Here's how:\n",
    "\n",
    "- SIFT is known for its ability to detect and describe distinctive features in images, even subtle details that can differentiate one breed of dog or one type of cat from another. This reduces false positives by allowing the model to focus on relevant details.\n",
    "- Using SIFT, the model can highlight unique characteristics of certain categories of cats or dogs that may be difficult to distinguish with other methods. This helps reduce false positives by correctly classifying images into specific categories, rather than making overly general predictions.\n",
    "- Confusion matrix analysis provides detailed information about where the model is successful and where there may be difficulties. For example, if we observe a high false positive rate in a particular cat category, this could indicate that the model needs more data or an adjustment to the feature extraction for that particular category.\n",
    "\n",
    "#### **Overfitting and Visual Vocabulary Size (K):**\n",
    "\n",
    "The analysis of overfitting and the choice of the size of the visual vocabulary (K) are critical aspects in your project to achieve good generalization in image classification for the following reasons:\n",
    "\n",
    "- Overfitting is a common concern in machine learning, where the model overfits the training data and has difficulty generalizing to unseen data, such as the validation set or new images. To mitigate these concerns, it is essential to evaluate the performance of the classifier on the validation set.\n",
    "- The gap between training accuracy (how well the model performs on the data used to train) and validation accuracy (how well it performs on unseen data) is a key indicator of overfitting. If the training accuracy is significantly higher than the validation accuracy, it could be a sign that the model is overfitted and does not generalize well.\n",
    "- The size of the visual vocabulary, represented as K, is an important parameter in the process of building a Bag of Visual Words (BoVW) model. K refers to the number of \"visual words\" or \"clusters\" in the vocabulary that are used to describe images.\n",
    "- The value of K has a direct impact on the model's ability to discern relevant visual details in images. A larger K allows for greater granularity in image description, capturing finer details, but can also increase computational complexity.\n",
    "- The choice of K = 100 is a strategic commitment. This means that a visual vocabulary of 100 keywords has been selected to describe the images. This specific choice is based on a balance between computational efficiency and classification accuracy.\n",
    "- The value of K = 100 was considered appropriate as it provides enough power to capture distinctive features in dog and cat images without excessively increasing computational complexity. This helps avoid overfitting and ensures that the model can generalize effectively to new images.\n",
    "- The choice of K is directly related to the generalization capacity of the model. An inappropriately large K could lead to overfitting, while a very small K could lose important information. The choice of K = 100 reflects careful consideration of these implications and seeks the appropriate balance.\n",
    "\n",
    "#### **Runtime Efficiency and Variability:**\n",
    "\n",
    "Consideration of runtime efficiency and evaluation of the solution under variable conditions are essential elements for the following reasons:\n",
    "\n",
    "- Efficiency in execution time is a crucial aspect to take into account in our project. Refers to the time it takes to perform feature extraction, clustering, and classification operations in the image classification workflow. This is particularly relevant to achieving a solution that is scalable to large data sets or real-time applications.\n",
    "- For projects that involve image classification, it is essential that the process be efficient, even when working with large volumes of data. An efficient solution can quickly process large quantities of images, which is essential in applications such as searching for online images or analyzing large image repositories.\n",
    "- Variability refers to the solution's ability to handle images that may vary in quality, lighting conditions, and minor distortions. This is important because real-world images can be captured in various conditions and may contain noise or imperfections.\n"
   ]
  },
  {
   "cell_type": "markdown",
   "id": "c55e4f03-31fd-490c-9612-dd30eaca4f50",
   "metadata": {},
   "source": [
    "## Application Resources:\n",
    "\n",
    "#### **Machine Learning Libraries:**\n",
    "\n",
    "- Utilized Python libraries like scikit-learn for implementing machine learning algorithms.\n",
    "- Employed OpenCV for computer vision tasks, including feature extraction.\n",
    "\n",
    "#### **Feature Extraction Methods:**\n",
    "\n",
    "- Utilized the Scale-Invariant Feature Transform (SIFT) algorithm as the feature extraction method.\n",
    "- Experimented with other feature extraction techniques such as ORB, FAST and SURF for performance comparison.\n",
    "\n",
    "#### **Classification Algorithms:**\n",
    "\n",
    "- Employed Support Vector Machines (SVM) with a linear kernel as the primary classification algorithm.\n",
    "- Explored other classification algorithms like Random Forests, K-Nearest Neighbors, or Convolutional Neural Networks (CNNs) for benchmarking and comparison.\n",
    "\n",
    "#### **Validation and Evaluation Metrics:**\n",
    "\n",
    "- Employed metrics such as accuracy and confusion matrix to assess the classifier's performance.\n",
    "- Conducted cross-validation to ensure robustness and avoid overfitting.\n",
    "\n",
    "#### **Visual Vocabulary Creation:**\n",
    "\n",
    "- Created a visual vocabulary using k-means clustering to represent image content effectively.\n",
    "\n",
    "#### **Code Development Environment:**\n",
    "\n",
    "- Developed and documented the project using Python and Jupyter Notebook, allowing for code readability and easy collaboration.\n",
    "\n",
    "#### **Data Handling:**\n",
    "\n",
    "- Loaded, preprocessed, and organized image datasets for training and validation.\n",
    "- Generated histograms of visual word occurrences for each image to build feature vectors.\n",
    "\n",
    "#### **Model Training and Evaluation:**\n",
    "\n",
    "- Trained the classifier on labeled training data.\n",
    "- Evaluated classifier performance on validation data, using metrics to measure accuracy and precision."
   ]
  },
  {
   "cell_type": "markdown",
   "id": "b88c3659",
   "metadata": {},
   "source": [
    "## References:\n",
    "\n",
    "[1] Creating linear kernel SVM in Python. (2018). Retrieved from https://www.geeksforgeeks.org/creating-linear-kernel-svm-in-python/\n",
    "\n",
    "[2] Gandhi, R. (2018). Support Vector Machine - Introduction to Machine Learning Algorithms. Retrieved from https://towardsdatascience.com/support-vector-machine-introduction-to-machine-learning-algorithms-934a444fca47\n",
    "\n",
    "[3] Introduction to SURF (Speeded-Up Robust Features). (n.d.). Retrieved from https://docs.opencv.org/3.4/df/dd2/tutorial_py_surf_intro.html\n",
    "\n",
    "[4] ORB (Oriented FAST and Rotated BRIEF). (n.d.). Retrieved from https://docs.opencv.org/3.4/d1/d89/tutorial_py_orb.html\n",
    "\n",
    "[5] SIFT Interest Point Detector Using Python - OpenCV. (2023). Retrieved from https://www.geeksforgeeks.org/sift-interest-point-detector-using-python-opencv/\n",
    "\n",
    "[6] Confusion Matrix. (n.d.). Retrieved from https://www.sciencedirect.com/topics/engineering/confusion-matrix#:~:text=A%20confusion%20matrix%20is%20a,performance%20of%20a%20classification%20algorithm.\n",
    "\n",
    "[7] Ramírez, L. (2023). Algoritmo k-means: ¿Qué es y cómo funciona? Retrieved from https://www.iebschool.com/blog/algoritmo-k-means-que-es-y-como-funciona-big-data/\n",
    "\n"
   ]
  }
 ],
 "metadata": {
  "kernelspec": {
   "display_name": "Python 3 (ipykernel)",
   "language": "python",
   "name": "python3"
  },
  "language_info": {
   "codemirror_mode": {
    "name": "ipython",
    "version": 3
   },
   "file_extension": ".py",
   "mimetype": "text/x-python",
   "name": "python",
   "nbconvert_exporter": "python",
   "pygments_lexer": "ipython3",
   "version": "3.10.6"
  }
 },
 "nbformat": 4,
 "nbformat_minor": 5
}
